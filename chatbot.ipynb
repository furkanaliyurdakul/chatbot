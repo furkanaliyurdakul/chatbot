{
 "cells": [
  {
   "cell_type": "code",
   "execution_count": 1,
   "id": "e1dc61cc",
   "metadata": {},
   "outputs": [
    {
     "name": "stderr",
     "output_type": "stream",
     "text": [
      "[nltk_data] Downloading package punkt to\n",
      "[nltk_data]     C:\\Users\\Michael\\AppData\\Roaming\\nltk_data...\n",
      "[nltk_data]   Package punkt is already up-to-date!\n",
      "[nltk_data] Downloading package stopwords to\n",
      "[nltk_data]     C:\\Users\\Michael\\AppData\\Roaming\\nltk_data...\n",
      "[nltk_data]   Package stopwords is already up-to-date!\n"
     ]
    }
   ],
   "source": [
    "# import libraries\n",
    "import nltk\n",
    "import random\n",
    "from nltk.tokenize import word_tokenize\n",
    "from nltk.corpus import stopwords\n",
    "import string\n",
    "import re\n",
    "\n",
    "nltk.download('punkt')\n",
    "nltk.download('stopwords')\n",
    "import sqlite3"
   ]
  },
  {
   "cell_type": "code",
   "execution_count": 2,
   "id": "bc87e82f-990a-478b-9153-eae0c57d37cc",
   "metadata": {},
   "outputs": [],
   "source": [
    "# define DB class that interacts with the database\n",
    "\n",
    "class Db:\n",
    "    def __init__(self):\n",
    "        self.conn_string = 'data/university_chatbot.db'\n",
    "        self.init_db()\n",
    "    \n",
    "    def is_already_initialized(self):\n",
    "        return self.get_one(\"SELECT name FROM sqlite_master WHERE type='table' AND name='students'\")\n",
    "\n",
    "    def init_db(self):\n",
    "\n",
    "        if self.is_already_initialized():\n",
    "            return\n",
    "        \n",
    "        # Create tables\n",
    "        # Students Table\n",
    "        self.execute_mutation('''\n",
    "            CREATE TABLE IF NOT EXISTS students (\n",
    "                matriculation_number INTEGER PRIMARY KEY,\n",
    "                name TEXT NOT NULL,\n",
    "                surname TEXT NOT NULL,\n",
    "                address TEXT\n",
    "            )\n",
    "            ''')\n",
    "\n",
    "        # Courses Table\n",
    "        self.execute_mutation('''\n",
    "            CREATE TABLE IF NOT EXISTS courses (\n",
    "                course_id INTEGER PRIMARY KEY,\n",
    "                course_name TEXT NOT NULL,\n",
    "                instructor TEXT NOT NULL\n",
    "            )\n",
    "            ''')\n",
    "\n",
    "        # Registrations Table\n",
    "        self.execute_mutation('''\n",
    "            CREATE TABLE IF NOT EXISTS registrations (\n",
    "                registration_id INTEGER PRIMARY KEY,\n",
    "                matriculation_number INTEGER NOT NULL,\n",
    "                course_id INTEGER NOT NULL,\n",
    "                FOREIGN KEY (matriculation_number) REFERENCES students (matriculation_number),\n",
    "                FOREIGN KEY (course_id) REFERENCES courses (course_id)\n",
    "            )\n",
    "            ''')\n",
    "\n",
    "        # Exam Results Table\n",
    "        self.execute_mutation('''\n",
    "            CREATE TABLE IF NOT EXISTS exam_results (\n",
    "                result_id INTEGER PRIMARY KEY,\n",
    "                matriculation_number INTEGER NOT NULL,\n",
    "                course_id INTEGER NOT NULL,\n",
    "                grade TEXT NOT NULL,\n",
    "                FOREIGN KEY (matriculation_number) REFERENCES students (matriculation_number),\n",
    "                FOREIGN KEY (course_id) REFERENCES courses (course_id)\n",
    "            )\n",
    "            ''')\n",
    "        self.fill_db_with_sample_data()\n",
    "\n",
    "    def fill_db_with_sample_data(self):\n",
    "        # Sample data for students\n",
    "        students = [\n",
    "            (201001, 'Alice', 'Smith', 'Jakobstraße 123'),\n",
    "            (201002, 'Bob', 'Johnson', 'Schlägelstraße 456'),\n",
    "            (201003, 'Carol', 'Williams', 'Borsigplatz 789'),\n",
    "            (201004, 'David', 'Brown', 'Kamener Straße 101'),\n",
    "            (201005, 'Eve', 'Davis', 'Priorstraße 202'),\n",
    "            (201006, 'Frank', 'Miller', 'Burgholzstraße 303'),\n",
    "            (201007, 'Grace', 'Wilson', 'Clausthaler Straße 404'),\n",
    "            (201008, 'Henry', 'Moore', 'Nordstraße 505'),\n",
    "            (201009, 'Ivy', 'Taylor', 'Am Waldfried 606'),\n",
    "            (201010, 'Jack', 'Anderson', 'Westfalenhüttenallee 707')\n",
    "        ]\n",
    "        # Sample data for courses\n",
    "        courses = [\n",
    "            (101, 'Introduction to Computer Science', 'Dr. John Doe'),\n",
    "            (102, 'Advanced Mathematics', 'Dr. Jane Smith'),\n",
    "            (103, 'Physics for Engineers', 'Dr. Emily Johnson'),\n",
    "            (104, 'Coding for Engineers', 'Dr. Emilia Johansson'),\n",
    "        ]\n",
    "\n",
    "        # Insert students into the database\n",
    "        self.execute_mass_mutation('INSERT INTO students VALUES (?,?,?,?)', students)\n",
    "\n",
    "        # Insert courses into the database\n",
    "        self.execute_mass_mutation('INSERT INTO courses VALUES (?,?,?)', courses)\n",
    "\n",
    "        # Generate registrations (2 for each student)\n",
    "        registrations = []\n",
    "        for student in students:\n",
    "            registered_courses = random.sample(courses, 2)  # Randomly pick 2 courses for each student\n",
    "            for course in registered_courses:\n",
    "                registrations.append((None, student[0], course[0]))\n",
    "\n",
    "        # Insert registrations into the database\n",
    "        self.execute_mass_mutation('INSERT INTO registrations (registration_id, matriculation_number, course_id) VALUES (?,?,?)', registrations)\n",
    "\n",
    "        # Generate exam results (1 for each student)\n",
    "        exam_results = []\n",
    "        for student in students:\n",
    "            course_id = random.choice(registrations)[2]  # Randomly pick one course from registrations\n",
    "            grade = random.choice(['1.0','1.3','1.5','1.7', '2.0', '2.3','2.5','2.7', '3.0','3.3','3.5','3.7', '4.0', '5.0', 'F'])  # Randomly assign a grade\n",
    "            exam_results.append((None, student[0], course_id, grade))\n",
    "\n",
    "        # Insert exam results into the database\n",
    "        self.execute_mass_mutation('INSERT INTO exam_results (result_id, matriculation_number, course_id, grade) VALUES (?,?,?,?)', exam_results)\n",
    "            \n",
    "\n",
    "    def get_one(self, query, args=()):\n",
    "        conn = sqlite3.connect(self.conn_string)\n",
    "        cursor = conn.cursor()\n",
    "        cursor.execute(query, args)\n",
    "        result = cursor.fetchone()\n",
    "        conn.close()\n",
    "        return result\n",
    "    \n",
    "    def get_many(self, query):\n",
    "        conn = sqlite3.connect(self.conn_string)\n",
    "        cursor = conn.cursor()\n",
    "        cursor.execute(query)\n",
    "        result = cursor.fetchall()\n",
    "        conn.close()\n",
    "        return result\n",
    "    \n",
    "    def execute_mutation(self, query, args = ()):\n",
    "        conn = sqlite3.connect(self.conn_string)\n",
    "        cursor = conn.cursor()\n",
    "        cursor.execute(query, args)\n",
    "        conn.commit()\n",
    "        conn.close()\n",
    "\n",
    "    def execute_mass_mutation(self, query, params = []):\n",
    "        conn = sqlite3.connect(self.conn_string)\n",
    "        cursor = conn.cursor()\n",
    "        cursor.executemany(query, params)\n",
    "        conn.commit()\n",
    "        conn.close()   \n"
   ]
  },
  {
   "cell_type": "code",
   "execution_count": 3,
   "id": "c257ba63",
   "metadata": {},
   "outputs": [
    {
     "name": "stdout",
     "output_type": "stream",
     "text": [
      "Bot: I could not identify your Course or your Matriculation number. Please enter the Matriculation number and the course name or course ID\n"
     ]
    },
    {
     "name": "stdout",
     "output_type": "stream",
     "text": [
      " query\n"
     ]
    },
    {
     "name": "stdout",
     "output_type": "stream",
     "text": [
      "You: query\n",
      "Bot: I could not identify your Course or your Matriculation number. Please enter the Matriculation number and the course name or course ID\n"
     ]
    },
    {
     "name": "stdout",
     "output_type": "stream",
     "text": [
      " 201001 103\n"
     ]
    },
    {
     "name": "stdout",
     "output_type": "stream",
     "text": [
      "You: 201001 103\n",
      "Bot: Is your matriculation 201001\n"
     ]
    },
    {
     "name": "stdout",
     "output_type": "stream",
     "text": [
      " yes\n"
     ]
    },
    {
     "name": "stdout",
     "output_type": "stream",
     "text": [
      "You: yes\n",
      "Bot: Are you referring to the course physics for engineers (ID: 103)?\n"
     ]
    },
    {
     "name": "stdout",
     "output_type": "stream",
     "text": [
      " yes\n"
     ]
    },
    {
     "name": "stdout",
     "output_type": "stream",
     "text": [
      "You: yes\n",
      "Bot: Is it correct that you want to querythe status of your exam ('Physics for Engineers',)\n"
     ]
    },
    {
     "name": "stdout",
     "output_type": "stream",
     "text": [
      " yes\n"
     ]
    },
    {
     "name": "stdout",
     "output_type": "stream",
     "text": [
      "You: yes\n",
      "You are registered for Course 103!\n"
     ]
    },
    {
     "name": "stdout",
     "output_type": "stream",
     "text": [
      "You: 201001 103\n",
      "Bot: Is your matriculation 201001\n"
     ]
    },
    {
     "name": "stdout",
     "output_type": "stream",
     "text": [
      " yes\n"
     ]
    },
    {
     "name": "stdout",
     "output_type": "stream",
     "text": [
      "You: yes\n",
      "Bot: Are you referring to the course physics for engineers (ID: 103)?\n"
     ]
    },
    {
     "name": "stdout",
     "output_type": "stream",
     "text": [
      " yes\n"
     ]
    },
    {
     "name": "stdout",
     "output_type": "stream",
     "text": [
      "You: yes\n"
     ]
    },
    {
     "name": "stdout",
     "output_type": "stream",
     "text": [
      "You: 201001 103\n",
      "Bot: Is your matriculation 201001\n"
     ]
    },
    {
     "name": "stdout",
     "output_type": "stream",
     "text": [
      " yes\n"
     ]
    },
    {
     "name": "stdout",
     "output_type": "stream",
     "text": [
      "You: yes\n",
      "Bot: Are you referring to the course physics for engineers (ID: 103)?\n"
     ]
    },
    {
     "name": "stdout",
     "output_type": "stream",
     "text": [
      " yes\n"
     ]
    },
    {
     "name": "stdout",
     "output_type": "stream",
     "text": [
      "You: yes\n"
     ]
    },
    {
     "name": "stdout",
     "output_type": "stream",
     "text": [
      "You: 201001 103\n",
      "Bot: Is your matriculation 201001\n"
     ]
    },
    {
     "name": "stdout",
     "output_type": "stream",
     "text": [
      " yes\n"
     ]
    },
    {
     "name": "stdout",
     "output_type": "stream",
     "text": [
      "You: yes\n",
      "Bot: Are you referring to the course physics for engineers (ID: 103)?\n"
     ]
    },
    {
     "name": "stdout",
     "output_type": "stream",
     "text": [
      " yes\n"
     ]
    },
    {
     "name": "stdout",
     "output_type": "stream",
     "text": [
      "You: yes\n"
     ]
    },
    {
     "name": "stdout",
     "output_type": "stream",
     "text": [
      "You: query\n",
      "query\n",
      "Multiple Intents provided\n",
      "I have found the following possible intent:  ['query_exam_status', 'query_exam_grade']\n",
      "Bot: I have identified the following intent: query_exam_status. Shall we process that action?\n"
     ]
    },
    {
     "name": "stdout",
     "output_type": "stream",
     "text": [
      " yes\n"
     ]
    },
    {
     "name": "stdout",
     "output_type": "stream",
     "text": [
      "You: yes\n",
      "Bot: I could not identify your Course or your Matriculation number. Please enter the Matriculation number and the course name or course ID\n"
     ]
    },
    {
     "name": "stdout",
     "output_type": "stream",
     "text": [
      " 201001 103\n"
     ]
    },
    {
     "name": "stdout",
     "output_type": "stream",
     "text": [
      "You: 201001 103\n",
      "Bot: Is your matriculation 201001\n"
     ]
    },
    {
     "name": "stdout",
     "output_type": "stream",
     "text": [
      " yes\n"
     ]
    },
    {
     "name": "stdout",
     "output_type": "stream",
     "text": [
      "You: yes\n",
      "Bot: Are you referring to the course physics for engineers (ID: 103)?\n"
     ]
    },
    {
     "name": "stdout",
     "output_type": "stream",
     "text": [
      " yes\n"
     ]
    },
    {
     "name": "stdout",
     "output_type": "stream",
     "text": [
      " yes\n"
     ]
    },
    {
     "name": "stdout",
     "output_type": "stream",
     "text": [
      "You: yes\n",
      "Bot: I could not identify your Course or your Matriculation number. Please enter the Matriculation number and the course name or course ID\n"
     ]
    },
    {
     "name": "stdout",
     "output_type": "stream",
     "text": [
      " 201001 103\n"
     ]
    },
    {
     "name": "stdout",
     "output_type": "stream",
     "text": [
      "You: 201001 103\n",
      "Bot: Is your matriculation 201001\n"
     ]
    },
    {
     "name": "stdout",
     "output_type": "stream",
     "text": [
      " yes\n"
     ]
    },
    {
     "name": "stdout",
     "output_type": "stream",
     "text": [
      "You: yes\n",
      "Bot: Are you referring to the course physics for engineers (ID: 103)?\n"
     ]
    },
    {
     "name": "stdout",
     "output_type": "stream",
     "text": [
      " yes\n"
     ]
    },
    {
     "name": "stdout",
     "output_type": "stream",
     "text": [
      "You: yes\n"
     ]
    },
    {
     "name": "stdout",
     "output_type": "stream",
     "text": [
      "You: status\n",
      "status\n",
      "Multiple Intents provided\n",
      "I have found the following possible intent:  ['query_exam_status', 'query_exam_grade']\n",
      "Bot: I have identified the following intent: query_exam_status. Shall we process that action?\n"
     ]
    },
    {
     "name": "stdout",
     "output_type": "stream",
     "text": [
      " 201001 103\n"
     ]
    },
    {
     "name": "stdout",
     "output_type": "stream",
     "text": [
      "You: 201001 103\n",
      "Bot: I have identified the following intent: query_exam_grade. Shall we process that action?\n"
     ]
    },
    {
     "name": "stdout",
     "output_type": "stream",
     "text": [
      " yes\n"
     ]
    },
    {
     "name": "stdout",
     "output_type": "stream",
     "text": [
      "You: yes\n",
      "Bot: Is your matriculation 201001\n"
     ]
    },
    {
     "name": "stdout",
     "output_type": "stream",
     "text": [
      " yes\n"
     ]
    },
    {
     "name": "stdout",
     "output_type": "stream",
     "text": [
      "You: yes\n",
      "Bot: Are you referring to the course physics for engineers (ID: 103)?\n"
     ]
    },
    {
     "name": "stdout",
     "output_type": "stream",
     "text": [
      " yes\n"
     ]
    },
    {
     "name": "stdout",
     "output_type": "stream",
     "text": [
      "You: yes\n",
      "[]\n",
      "No grade available or Examination not yet passed\n",
      "We have processed your request!\n",
      "Bot: Lets try again. What can I do for you?\n"
     ]
    },
    {
     "name": "stdout",
     "output_type": "stream",
     "text": [
      "You: status\n",
      "status\n",
      "Multiple Intents provided\n",
      "I have found the following possible intent:  ['query_exam_status', 'query_exam_grade']\n",
      "Bot: I have identified the following intent: query_exam_status. Shall we process that action?\n"
     ]
    },
    {
     "name": "stdout",
     "output_type": "stream",
     "text": [
      " yes\n"
     ]
    },
    {
     "name": "stdout",
     "output_type": "stream",
     "text": [
      "You: yes\n",
      "Bot: I could not identify your Course or your Matriculation number. Please enter the Matriculation number and the course name or course ID\n"
     ]
    },
    {
     "name": "stdout",
     "output_type": "stream",
     "text": [
      " 201001\n"
     ]
    },
    {
     "name": "stdout",
     "output_type": "stream",
     "text": [
      "You: 201001\n",
      "Bot: Is your matriculation 201001\n"
     ]
    },
    {
     "name": "stdout",
     "output_type": "stream",
     "text": [
      " 103\n"
     ]
    },
    {
     "name": "stdout",
     "output_type": "stream",
     "text": [
      "You: 103\n",
      "Bot: Are you referring to the course physics for engineers (ID: 103)?\n"
     ]
    },
    {
     "name": "stdout",
     "output_type": "stream",
     "text": [
      " yes\n"
     ]
    },
    {
     "name": "stdout",
     "output_type": "stream",
     "text": [
      "You: yes\n",
      "Bot: I could not identify your Matriculation number. Please enter the Matriculation number\n"
     ]
    },
    {
     "name": "stdout",
     "output_type": "stream",
     "text": [
      " 201001\n"
     ]
    },
    {
     "name": "stdout",
     "output_type": "stream",
     "text": [
      "You: 201001\n",
      "Bot: Is your matriculation 201001\n"
     ]
    },
    {
     "name": "stdout",
     "output_type": "stream",
     "text": [
      " yes\n"
     ]
    },
    {
     "name": "stdout",
     "output_type": "stream",
     "text": [
      "You: yes\n"
     ]
    },
    {
     "name": "stdout",
     "output_type": "stream",
     "text": [
      "You: change address\n",
      "change address\n",
      "Multiple Intents provided\n",
      "I have found the following possible intent:  ['change_address', 'change_surname']\n",
      "Bot: I have identified the following intent: change_address. Shall we process that action?\n"
     ]
    },
    {
     "name": "stdout",
     "output_type": "stream",
     "text": [
      " yes\n"
     ]
    },
    {
     "name": "stdout",
     "output_type": "stream",
     "text": [
      "You: yes\n",
      "Bot: Please enter your matriculation number: \n"
     ]
    },
    {
     "name": "stdout",
     "output_type": "stream",
     "text": [
      " I dont know\n"
     ]
    },
    {
     "name": "stdout",
     "output_type": "stream",
     "text": [
      "You: I dont know\n",
      "Bot: Please enter your matriculation number: \n"
     ]
    },
    {
     "name": "stdout",
     "output_type": "stream",
     "text": [
      " 201001\n"
     ]
    },
    {
     "name": "stdout",
     "output_type": "stream",
     "text": [
      "You: 201001\n",
      "Bot: Is your matriculation 201001\n"
     ]
    },
    {
     "name": "stdout",
     "output_type": "stream",
     "text": [
      " yes\n"
     ]
    },
    {
     "name": "stdout",
     "output_type": "stream",
     "text": [
      "You: yes\n",
      "Bot: Please enter your new address: \n"
     ]
    },
    {
     "name": "stdout",
     "output_type": "stream",
     "text": [
      " yes\n"
     ]
    },
    {
     "name": "stdout",
     "output_type": "stream",
     "text": [
      "You: yes\n",
      "Bot: Please enter your matriculation number: \n"
     ]
    },
    {
     "name": "stdout",
     "output_type": "stream",
     "text": [
      " 201001\n"
     ]
    },
    {
     "name": "stdout",
     "output_type": "stream",
     "text": [
      "You: 201001\n",
      "Bot: Please enter the name of the course you want to register for: \n"
     ]
    },
    {
     "name": "stdout",
     "output_type": "stream",
     "text": [
      " Applied Mathematics \n"
     ]
    },
    {
     "name": "stdout",
     "output_type": "stream",
     "text": [
      "You: Applied Mathematics \n",
      "Incorrect course name, please provide the correct one.\n",
      "Bot: Please enter the name of the course you want to register for: \n"
     ]
    },
    {
     "name": "stdout",
     "output_type": "stream",
     "text": [
      " Advanced Mathematics\n"
     ]
    },
    {
     "name": "stdout",
     "output_type": "stream",
     "text": [
      "You: Advanced Mathematics\n",
      "Bot: Let me summarize once again: you want to register for the exam Advanced Mathematics? (yes/no)\n"
     ]
    },
    {
     "name": "stdout",
     "output_type": "stream",
     "text": [
      " yes\n"
     ]
    },
    {
     "name": "stdout",
     "output_type": "stream",
     "text": [
      "You: yes\n",
      "Student with matriculation number 201001 registered for course Advanced Mathematics.\n",
      "We have processed your request!\n",
      "Bot: Lets try again. What can I do for you?\n"
     ]
    },
    {
     "name": "stdout",
     "output_type": "stream",
     "text": [
      " deregister exam\n"
     ]
    },
    {
     "name": "stdout",
     "output_type": "stream",
     "text": [
      "You: deregister exam\n",
      "deregister exam\n",
      "Multiple Intents provided\n",
      "I have found the following possible intent:  ['register_exam', 'deregister_exam', 'query_exam_status', 'query_exam_grade']\n",
      "Bot: I have identified the following intent: register_exam. Shall we process that action?\n"
     ]
    },
    {
     "name": "stdout",
     "output_type": "stream",
     "text": [
      " no\n"
     ]
    },
    {
     "name": "stdout",
     "output_type": "stream",
     "text": [
      "You: no\n",
      "Bot: I have identified the following intent: deregister_exam. Shall we process that action?\n"
     ]
    },
    {
     "name": "stdout",
     "output_type": "stream",
     "text": [
      " yes\n"
     ]
    },
    {
     "name": "stdout",
     "output_type": "stream",
     "text": [
      "You: yes\n",
      "Bot: Please enter your matriculation number: \n"
     ]
    },
    {
     "name": "stdout",
     "output_type": "stream",
     "text": [
      " 201001\n"
     ]
    },
    {
     "name": "stdout",
     "output_type": "stream",
     "text": [
      "You: 201001\n",
      "Bot: Please enter the name of the course you want to deregister from: \n"
     ]
    },
    {
     "name": "stdout",
     "output_type": "stream",
     "text": [
      " Advanced Mathematics\n"
     ]
    },
    {
     "name": "stdout",
     "output_type": "stream",
     "text": [
      "You: Advanced Mathematics\n",
      "Bot: Let me summarize once again: you want to deregister from the exam Advanced Mathematics? (yes/no)\n"
     ]
    },
    {
     "name": "stdout",
     "output_type": "stream",
     "text": [
      " yes\n"
     ]
    },
    {
     "name": "stdout",
     "output_type": "stream",
     "text": [
      "You: yes\n",
      "Bot: Please enter your matriculation number: \n"
     ]
    },
    {
     "name": "stdout",
     "output_type": "stream",
     "text": [
      " The matriculation number is 201001\n"
     ]
    },
    {
     "name": "stdout",
     "output_type": "stream",
     "text": [
      "You: The matriculation number is 201001\n",
      "Bot: Is your matriculation 201001\n"
     ]
    },
    {
     "name": "stdout",
     "output_type": "stream",
     "text": [
      " yes\n"
     ]
    },
    {
     "name": "stdout",
     "output_type": "stream",
     "text": [
      "You: yes\n",
      "Bot: Please enter your new address: \n"
     ]
    },
    {
     "name": "stdout",
     "output_type": "stream",
     "text": [
      " I am Ostenbergstrasse\n"
     ]
    },
    {
     "name": "stdout",
     "output_type": "stream",
     "text": [
      "You: I am Ostenbergstrasse\n",
      "Bot: Please make sure you have entered your street name and number correctly.\n"
     ]
    },
    {
     "name": "stdout",
     "output_type": "stream",
     "text": [
      " I am living in Ostenbergstrasse 97\n"
     ]
    },
    {
     "name": "stdout",
     "output_type": "stream",
     "text": [
      "You: I am living in Ostenbergstrasse 97\n",
      "Bot: Please make sure you have entered your city and postal code correctly.\n"
     ]
    },
    {
     "name": "stdout",
     "output_type": "stream",
     "text": [
      " I am living in 44227 Dortmund\n"
     ]
    },
    {
     "name": "stdout",
     "output_type": "stream",
     "text": [
      "You: I am living in 44227 Dortmund\n",
      "Bot: Let me summarize once again: You have moved out and your new address is Ostenbergstrasse 97, 44227 Dortmund? \n"
     ]
    },
    {
     "name": "stdout",
     "output_type": "stream",
     "text": [
      " yes\n"
     ]
    },
    {
     "name": "stdout",
     "output_type": "stream",
     "text": [
      "You: yes\n",
      "Your address has been updated.\n",
      "We have processed your request!\n",
      "Bot: Lets try again. What can I do for you?\n"
     ]
    }
   ],
   "source": [
    "\n",
    "class ChatBot:\n",
    "    def __init__(self):\n",
    "        self.db = Db()\n",
    "        self.prompts = []\n",
    "        self.answers = []\n",
    "        self.intent = None\n",
    "        self.matric_number_pattern = r'\\b\\d{5,7}\\b'\n",
    "    \n",
    "    def chat(self, prompt):\n",
    "        print(\"Bot: \" + prompt)\n",
    "        self.prompts.append(prompt)\n",
    "        answer = input()\n",
    "        print(\"You: \"+ answer)\n",
    "        self.answers.append(answer)\n",
    "        #self.process_input(answer)\n",
    "        return answer\n",
    "    \n",
    "    #Try to Identify Intents and repeat until a single Intent is found\n",
    "    def start_conversation(self):\n",
    "        response = self.chat(\"Lets get started\")\n",
    "        while self.intent is None:\n",
    "            print(response)\n",
    "            #check response for Intents\n",
    "            words = self.process_input(response)\n",
    "            intents = self.identify_intent(words)\n",
    "            if len(intents) > 1:\n",
    "                print(\"Multiple Intents provided\")\n",
    "                print(\"I have found the following possible intent: \", intents.__str__())\n",
    "                for intent in intents:\n",
    "                    response = self.chat(f\"I have identified the following intent: {intent}. Shall we process that action?\")\n",
    "                    processed_input = self.process_input(response)\n",
    "                    if self.identify_yes_no_answer(processed_input) == 'yes':\n",
    "                        self.intent = intent\n",
    "                        self.act()\n",
    "                        print(\"We have processed your request!\")\n",
    "                        self.intent = None\n",
    "                        break\n",
    "                response = self.chat(\"Lets try again. What can I do for you?\")             \n",
    "            else:\n",
    "                if intents[0] == \"unknown_intent\":\n",
    "                    self.intent = intents[0]\n",
    "                    self.act()\n",
    "                    #If we come back from the action we need a new response\n",
    "                    response = self.chat(\"What shall we do now?\")\n",
    "                else:\n",
    "                    print(\"I have identified the following intent: \", intents[0])\n",
    "                    response = self.chat(\"Do you want to process with this action?\")\n",
    "                    processed_input = self.process_input(response)\n",
    "                    if self.identify_yes_no_answer(processed_input) == 'yes':\n",
    "                        self.intent = intents[0]\n",
    "                        self.act()\n",
    "                        print(\"We have processed your request!\")\n",
    "\n",
    "            \n",
    "    def process_input(self, user_input = None):\n",
    "        if user_input is None:\n",
    "            user_input = self.answers[-1]\n",
    "        tokens = word_tokenize(user_input)\n",
    "        tokens = [w.lower() for w in tokens]\n",
    "        table = str.maketrans('', '', string.punctuation)\n",
    "        stripped = [w.translate(table) for w in tokens]\n",
    "        words = [word for word in stripped if word.isalpha()]\n",
    "        stop_words = set(stopwords.words('english'))\n",
    "        words = [w for w in words if not w in stop_words]\n",
    "        return words\n",
    "    \n",
    "    def identify_intent(self, processed_input):\n",
    "        intent_keywords = {\n",
    "            'register_exam': ['register', 'exam', 'enroll', 'sign', 'apply', 'examination', 'registration'],\n",
    "            'deregister_exam': ['deregister', 'exam'],\n",
    "            'query_exam_status': ['query', 'exam', 'status', 'registered', 'check', 'enrollment', 'status', 'examination', 'status'],\n",
    "            'query_exam_grade': ['query', 'exam', 'status', 'grade', 'score', 'result', 'marks', 'performance'],\n",
    "            'change_address': ['change', 'address', 'update', 'modify', 'new', 'relocate', 'relocates', 'move', 'moved'],\n",
    "            'change_surname': ['change', 'surname', 'family', 'update surname', 'modify', 'last', 'marry', 'married', 'divorced', 'divorced', 'divorced'],\n",
    "            'test': ['test'],\n",
    "            'abort': ['abort']\n",
    "            # Add more intents and associated keywords here for Query\n",
    "        }\n",
    "        \n",
    "        matched_intents = []\n",
    "        for intent,keywords in intent_keywords.items():\n",
    "            if any(keyword in processed_input for keyword in keywords):\n",
    "                matched_intents.append(intent)\n",
    "        \n",
    "        if not matched_intents:\n",
    "            return ['unknown_intent']\n",
    "        \n",
    "        return matched_intents\n",
    "    \n",
    "    def act(self):\n",
    "        if self.intent == 'unknown_intent':\n",
    "            print(\"Sorry, I didn't understand.\")\n",
    "            self.intent = None\n",
    "        elif self.intent == 'change_address':\n",
    "            self.change_address()\n",
    "        elif self.intent == 'change_surname':\n",
    "            self.change_surname()        \n",
    "        elif self.intent == 'register_exam':\n",
    "                    self.register_exam(),\n",
    "        elif self.intent == 'deregister_exam':\n",
    "                    self.deregister_exam(),\n",
    "        elif self.intent == 'query_exam_status':\n",
    "            self.query_exam_status()\n",
    "        elif self.intent == 'query_exam_grade':\n",
    "            self.query_exam_grade()\n",
    "        elif self.intent == 'abort':\n",
    "            self.abort()\n",
    "        elif self.intent == 'test':\n",
    "            self.test()\n",
    "        # Add more intents and associated actions here\n",
    "    \n",
    "    def has_postcode(user_input):\n",
    "        postcode_pattern = re.compile(r'\\b\\d{5}\\b')\n",
    "        return bool(re.search(postcode_pattern, user_input))\n",
    "    \n",
    "    def identify_yes_no_answer(self, input):\n",
    "        intent_keywords = {\n",
    "            'yes': ['true', 'yes','yeah', 'yep'],\n",
    "            'no': ['wrong', 'false', 'no', 'not', 'nope', 'nah'],\n",
    "            # Add more intents and associated keywords here\n",
    "        }\n",
    "\n",
    "        for intent, keywords in intent_keywords.items():\n",
    "            if any(keyword in input for keyword in keywords):\n",
    "                    return intent\n",
    "\n",
    "        return 'unknown_intent'\n",
    "    \n",
    "    #Iterate backwards through answers to find matriculation number\n",
    "    def find_matriculation_number(self, answers):\n",
    "        for answer in reversed(answers):\n",
    "            match = re.search(self.matric_number_pattern, answer.strip())\n",
    "            if match:\n",
    "                confirm = self.chat(f\"Is your matriculation {match.group()}\")\n",
    "                processed_input = self.process_input(confirm)\n",
    "                if self.identify_yes_no_answer(processed_input) == 'yes':\n",
    "                    return match.group()\n",
    "        return None\n",
    "        # Method to find course ID from user answers\n",
    "    def find_course_id(self, answers):\n",
    "        # Query the database for course names and IDs\n",
    "        courses = self.db.get_many('SELECT course_id, course_name FROM courses')\n",
    "        course_dict = {str(id): name.lower() for id, name in courses}\n",
    "\n",
    "        for answer in reversed(answers):\n",
    "            # Check for course ID (as a string) or course name in the answer\n",
    "            for course_id_str, course_name in course_dict.items():\n",
    "                if course_id_str in answer or course_name in answer.lower():\n",
    "                    # Confirm with the user\n",
    "                    course_desc = f\"{course_name} (ID: {course_id_str})\"\n",
    "                    confirm = self.chat(f\"Are you referring to the course {course_desc}?\")\n",
    "                    processed_input = self.process_input(confirm)\n",
    "                    if self.identify_yes_no_answer(processed_input) == 'yes':\n",
    "                        return int(course_id_str)  # Convert back to int before returning\n",
    "        return None\n",
    "    \n",
    "    def change_surname(self):\n",
    "\n",
    "        self.chat(\"What is your Matriculation Number?\")\n",
    "        # Ask for student's matriculation number\n",
    "        matriculation_number = self.find_matriculation_number(self.answers)\n",
    "\n",
    "        while matriculation_number is None:\n",
    "            self.chat(\"What is your Matriculation Number?\")\n",
    "            matriculation_number = self.find_matriculation_number(self.answers)\n",
    "        \n",
    "        \n",
    "        # Check if student exists\n",
    "        student=  self.db.get_one('SELECT * FROM students WHERE matriculation_number=?', (matriculation_number,))\n",
    "        \n",
    "        if student is None:\n",
    "            print(\"Sorry, you are not registered as a student.\")\n",
    "        else:\n",
    "            # Ask for new surname\n",
    "            new_surname_input = self.chat(\"Please enter your new surname: \")\n",
    "            surname = ''\n",
    "\n",
    "            def validate_surname_input(new_surname_input):\n",
    "                tokens = word_tokenize(new_surname_input)\n",
    "                tagged = nltk.pos_tag(tokens)\n",
    "                nn_words = [word[0] for word in tagged if word[1] in ['NNP', 'NN'] and word[0].isalpha() and word[0].lower() != 'surname']\n",
    "                while len(nn_words) == 0 or len(nn_words) > 1:\n",
    "                    new_surname_input = self.chat(\"Please make sure you have entered your new surname correctly.\")\n",
    "                    tokens = word_tokenize(new_surname_input)\n",
    "                    tagged = nltk.pos_tag(tokens)\n",
    "                    nn_words = [word[0] for word in tagged if word[1] in ['NNP', 'NN'] and word[0].isalpha() and word[0].lower() != 'surname']\n",
    "                \n",
    "                surname = nn_words[0]\n",
    "                return surname\n",
    "            \n",
    "            surname = validate_surname_input(new_surname_input)\n",
    "\n",
    "            answer = self.chat(\"Let me summarize once again: Your new surname is \" + surname + \"? \")\n",
    "            processed_answer = self.identify_yes_no_answer(answer)\n",
    "            \n",
    "            while processed_answer == 'unknown_intent':\n",
    "                answer = self.chat(\"Sorry, I didn't understand. Please answer with yes or no. \")\n",
    "                processed_answer = self.identify_yes_no_answer(answer)\n",
    "            \n",
    "            while processed_answer == 'no':\n",
    "                new_surname_input = self.chat(\"Please enter your correct new surname: \")\n",
    "                surname = validate_surname_input(new_surname_input)\n",
    "                answer = self.chat(\"Let me summarize once again: Your new surname is \" + surname + \"? \")\n",
    "                processed_answer = self.identify_yes_no_answer(answer)\n",
    "            \n",
    "            self.db.execute_mutation('UPDATE students SET surname=? WHERE matriculation_number=?', (surname, matriculation_number))\n",
    "\n",
    "            print(\"Your surname has been updated.\")\n",
    "\n",
    "            # Update student's surname\n",
    "    def query_exam_status(self):\n",
    "        matriculation_number = self.find_matriculation_number(self.answers)\n",
    "        course_id = self.find_course_id(self.answers)\n",
    "        isMissingArguments = matriculation_number is None or course_id is None\n",
    "        while isMissingArguments:\n",
    "            if course_id is None and matriculation_number is None:\n",
    "                self.chat(\"I could not identify your Course or your Matriculation number. Please enter the Matriculation number and the course name or course ID\")\n",
    "                matriculation_number = self.find_matriculation_number(self.answers)\n",
    "                course_id = self.find_course_id(self.answers)\n",
    "            elif course_id is None:\n",
    "                self.chat(\"I could not identify your Course. Please enter the course name or course ID\")\n",
    "                course_id = self.find_course_id(self.answers)\n",
    "            elif matriculation_number is None:\n",
    "                self.chat(\"I could not identify your Matriculation number. Please enter the Matriculation number\")\n",
    "                matriculation_number = self.find_matriculation_number(self.answers)\n",
    "            isMissingArguments = matriculation_number is None or course_id is None\n",
    "\n",
    "        course_name = self.db.get_one('SELECT course_name FROM courses WHERE course_id = ?', (str(course_id),))\n",
    "        matriculation_number = int(matriculation_number)\n",
    "\n",
    "        confirmation = self.chat(f\"Is it correct that you want to querythe status of your exam {course_name}\")\n",
    "        processed_input = self.process_input(confirmation)\n",
    "        if self.identify_yes_no_answer(processed_input) == 'yes':\n",
    "            registration = self.db.get_many(f'SELECT * FROM registrations WHERE matriculation_number={matriculation_number} AND course_id={course_id}')\n",
    "            if registration:\n",
    "                print(f\"You are registered for Course {course_id}!\")\n",
    "            else:\n",
    "                print(f\"No registration for Course {course_id} found!\")\n",
    "\n",
    "    def query_exam_grade(self):\n",
    "        # Find matriculation number from stored answers or ask the user\n",
    "        matriculation_number = self.find_matriculation_number(self.answers)\n",
    "        isMissingArguments = matriculation_number is None or course_id is None\n",
    "        while isMissingArguments:\n",
    "            if course_id is None and matriculation_number is None:\n",
    "                self.chat(\"I could not identify your Course or your Matriculation number. Please enter the Matriculation number and the course name or course ID\")\n",
    "                matriculation_number = self.find_matriculation_number(self.answers)\n",
    "                course_id = self.find_course_id(self.answers)\n",
    "            elif course_id is None:\n",
    "                self.chat(\"I could not identify your Course. Please enter the course name or course ID\")\n",
    "                course_id = self.find_course_id(self.answers)\n",
    "            elif matriculation_number is None:\n",
    "                self.chat(\"I could not identify your Matriculation number. Please enter the Matriculation number\")\n",
    "                matriculation_number = self.find_matriculation_number(self.answers)\n",
    "            isMissingArguments = matriculation_number is None or course_id is None\n",
    "\n",
    "        matriculation_number = int(matriculation_number)\n",
    "        \n",
    "        course_name = self.db.get_one('SELECT course_name FROM courses WHERE course_id = ?', (str(course_id),))\n",
    "        confirmation = self.chat(f\"Is it correct that you want to query the grade of your exam {course_name}\")\n",
    "        processed_input = self.process_input(confirmation)\n",
    "        if self.identify_yes_no_answer(processed_input) == 'yes':\n",
    "            # Query the database for the exam grade\n",
    "            result = self.db.get_many(f'SELECT grade FROM exam_results WHERE matriculation_number={matriculation_number} AND course_id={course_id}')\n",
    "\n",
    "            # Handle the response based on the query result\n",
    "            if result:\n",
    "                print(f\"Your grade for Course {course_id} is {result[0][0]}\")\n",
    "            else:\n",
    "                print(\"No grade available or Examination not yet passed\")\n",
    "            \n",
    "# In case the user changes his Mind abort resets the state and \n",
    "    def abort(self):\n",
    "         self.intent = None\n",
    "        \n",
    "# Test purpose\n",
    "    def test(self):\n",
    "        print(\"Test Test\")\n",
    "        print(\"Test Test\")\n",
    "        print(\"Test Test\")\n",
    "\n",
    "    def register_exam(self):\n",
    "        matriculation_number = self.chat(\"Please enter your matriculation number: \")\n",
    "\n",
    "        # Check if student exists\n",
    "        student = self.db.get_one('SELECT * FROM students WHERE matriculation_number=?', (matriculation_number,))\n",
    "        if student is None:\n",
    "            print(\"Sorry, you are not registered as a student.\")\n",
    "        else:\n",
    "            while True:\n",
    "                course_name = self.chat(\"Please enter the name of the course you want to register for: \")\n",
    "                course = self.db.get_one('SELECT course_id FROM courses WHERE course_name = ?', (course_name,))\n",
    "\n",
    "                if course is None:\n",
    "                    print(\"Incorrect course name, please provide the correct one.\")\n",
    "                    continue\n",
    "\n",
    "                answer = self.chat(f\"Let me summarize once again: you want to register for the exam {course_name}?\")\n",
    "                processed_answer = self.identify_yes_no_answer(answer)\n",
    "\n",
    "                while processed_answer == 'unknown_intent':\n",
    "                    answer = self.chat(\"Sorry, I didn't understand. Please answer with yes or no.\")\n",
    "                    processed_answer = self.identify_yes_no_answer(answer)\n",
    "\n",
    "                if processed_answer == 'yes':\n",
    "                    # Check if already registered\n",
    "                    registration = self.db.get_one('SELECT * FROM registrations WHERE matriculation_number = ? AND course_id = ?', (matriculation_number, course[0]))\n",
    "                    if registration:\n",
    "                        print(f\"Student with matriculation number {matriculation_number} is already registered for course {course_name}.\")\n",
    "                        return\n",
    "\n",
    "                    # Perform registration\n",
    "                    self.db.execute_mutation('INSERT INTO registrations (matriculation_number, course_id) VALUES (?, ?)', (matriculation_number, course[0]))\n",
    "                    print(f\"Student with matriculation number {matriculation_number} registered for course {course_name}.\")\n",
    "                    return\n",
    "                elif processed_answer == 'no':\n",
    "                    break  # Restart the loop if the user says no\n",
    "\n",
    "\n",
    "    def deregister_exam(self):\n",
    "        matriculation_number = self.chat(\"Please enter your matriculation number: \")\n",
    "\n",
    "        # Check if student exists\n",
    "        student = self.db.get_one('SELECT * FROM students WHERE matriculation_number=?', (matriculation_number,))\n",
    "        if student is None:\n",
    "            print(\"Sorry, you are not registered as a student.\")\n",
    "        else:\n",
    "            while True:\n",
    "                course_name = self.chat(\"Please enter the name of the course you want to deregister from: \")\n",
    "                course = self.db.get_one('SELECT course_id FROM courses WHERE course_name = ?', (course_name,))\n",
    "\n",
    "                if course is None:\n",
    "                    print(\"Incorrect course name, please provide the correct one.\")\n",
    "                    continue\n",
    "\n",
    "                answer = self.chat(f\"Let me summarize once again: you want to deregister from the exam {course_name}?\")\n",
    "                processed_answer = self.identify_yes_no_answer(answer)\n",
    "\n",
    "                while processed_answer == 'unknown_intent':\n",
    "                    answer = self.chat(\"Sorry, I didn't understand. Please answer with yes or no.\")\n",
    "                    processed_answer = self.identify_yes_no_answer(answer)\n",
    "\n",
    "                if processed_answer == 'yes':\n",
    "                    # Check if actually registered\n",
    "                    registration = self.db.get_one('SELECT * FROM registrations WHERE matriculation_number = ? AND course_id = ?', (matriculation_number, course[0]))\n",
    "                    if not registration:\n",
    "                        print(f\"Student with matriculation number {matriculation_number} is not registered for course {course_name}.\")\n",
    "                        return\n",
    "\n",
    "                    # Perform deregistration\n",
    "                    self.db.execute_mutation('DELETE FROM registrations WHERE matriculation_number = ? AND course_id = ?', (matriculation_number, course[0]))\n",
    "                    print(f\"Student with matriculation number {matriculation_number} deregistered from course {course_name}.\")\n",
    "                    return\n",
    "                elif processed_answer == 'no':\n",
    "                    break  # Exit the loop if the user says no\n",
    "    def extract_info(self, tree, label):\n",
    "        info_list = []\n",
    "        for subtree in tree.subtrees():\n",
    "            if subtree.label() == label:\n",
    "                info_list.append(\" \".join(word for word, tag in subtree.leaves()))\n",
    "        return info_list\n",
    "\n",
    "\n",
    "    def get_post_code(self,user_input):\n",
    "        postcode_pattern = re.compile(r'\\b\\d{5}\\b')\n",
    "        result = re.search(postcode_pattern, user_input)\n",
    "        first_match = result.group(0) if result else None\n",
    "        return first_match\n",
    "\n",
    "\n",
    "    def change_address(self):\n",
    "        self.chat(\"Please enter your matriculation number: \")\n",
    "        matriculation_number = self.find_matriculation_number(self.answers)\n",
    "        while matriculation_number is None:\n",
    "            self.chat(\"Please enter your matriculation number: \")\n",
    "            matriculation_number = self.find_matriculation_number(self.answers)\n",
    "\n",
    "        #Check if student exists\n",
    "        student=  self.db.get_one('SELECT * FROM students WHERE matriculation_number=?', (matriculation_number,))\n",
    "        if student is None:\n",
    "            print(\"Sorry, you are not registered as a student.\")\n",
    "        else:\n",
    "            #Ask for new address\n",
    "            new_address = self.chat(\"Please enter your new address: \")\n",
    "            def validate_address_input(new_address):\n",
    "                tokens = word_tokenize(new_address)\n",
    "                tagged = nltk.pos_tag(tokens)\n",
    "                # Grammar for City and Postal Number\n",
    "                city_grammar = r\"\"\"\n",
    "                    CITY: {<CD>?<NNP|NN><CD>?}\n",
    "                \"\"\"\n",
    "                city_cp = nltk.RegexpParser(city_grammar)\n",
    "                city_result = city_cp.parse(tagged)\n",
    "                city_combinations = self.extract_info(city_result, 'CITY')\n",
    "                city_filtered_combinations = [item for item in city_combinations if self.get_post_code(item) is not None]\n",
    "                street_grammar = r\"\"\"\n",
    "                STREET: {<DT|NNP>?<NNP|NN>?<NNP><CD>}\n",
    "                \"\"\"\n",
    "                street_cp = nltk.RegexpParser(street_grammar)\n",
    "                street_result = street_cp.parse(tagged)\n",
    "                street_pattern = r\"((Ober|Unter den|An |Im |Platz |Berg |Am |Alt\\-).+|(?:([A-Z][a-zäüö-]+){1,2})).([Cc]haussee|[Aa]llee|[sS]tr(\\.|(a(ss|ß)e))|[Rr]ing|berg|gasse|grund|hörn| Nord|graben|[mM]arkt|[Uu]fer|[Ss]tieg|[Ll]inden|[Dd]amm|[pP]latz|brücke|Steinbüchel|Burg|stiege|[Ww]eg|rain|park|[Ww]eide|[Hh][oö]f|pfad|garten|bogen).+?(\\d{1,4})([a-zäöüß]+)?(\\-?\\d{1,4}[a-zäöüß]?)?\"\n",
    "                street_combination = self.extract_info(street_result, 'STREET')\n",
    "                street_filtered_combinations = [item for item in street_combination if re.match(street_pattern, item)]\n",
    "               \n",
    "\n",
    "\n",
    "                while len(street_filtered_combinations) == 0:\n",
    "                    new_street_input = self.chat(\"Please make sure you have entered your street name and number correctly.\")\n",
    "                    tokens = word_tokenize(new_street_input)\n",
    "                    tagged = nltk.pos_tag(tokens)\n",
    "                    street_result = street_cp.parse(tagged)\n",
    "                    street_combination = self.extract_info(street_result, 'STREET')\n",
    "                    street_filtered_combinations = [item for item in street_combination if re.match(street_pattern, item)]\n",
    "\n",
    "                while len(city_filtered_combinations) == 0:\n",
    "                    new_city_input = self.chat(\"Please make sure you have entered your city and postal code correctly.\")\n",
    "                    tokens = word_tokenize(new_city_input)\n",
    "                    tagged = nltk.pos_tag(tokens)\n",
    "                    city_result = city_cp.parse(tagged)\n",
    "                    city_combinations = self.extract_info(city_result, 'CITY')\n",
    "                    city_filtered_combinations = [item for item in city_combinations if self.get_post_code(item) is not None]\n",
    "\n",
    "                new_address = street_filtered_combinations[0] + \", \" + city_filtered_combinations[0]\n",
    "                return new_address\n",
    "            final_address = validate_address_input(new_address)\n",
    "            final_answer = self.chat(\"Let me summarize once again: You have moved out and your new address is \" + final_address + \"? \")\n",
    "            while self.identify_yes_no_answer(final_answer) == 'no':\n",
    "                new_address = self.chat(\"Please enter your new address \")\n",
    "                final_answer = validate_address_input(new_address)\n",
    "            \n",
    "            self.db.execute_mutation('UPDATE students SET address=? WHERE matriculation_number=?', (final_address, matriculation_number))\n",
    "            print(\"Your address has been updated.\")\n",
    "\n",
    "\n",
    "\n",
    "chatbot = ChatBot()\n",
    "#chatbot.start_conversation()\n",
    "chatbot.query_exam_status()"
   ]
  },
  {
   "cell_type": "code",
   "execution_count": null,
   "id": "c3d9814f-7048-471d-894a-da410f2589c7",
   "metadata": {},
   "outputs": [],
   "source": []
  },
  {
   "cell_type": "code",
   "execution_count": null,
   "id": "4622815d-a19e-4eda-afec-f7c0a7857326",
   "metadata": {},
   "outputs": [],
   "source": []
  }
 ],
 "metadata": {
  "kernelspec": {
   "display_name": "Python 3 (ipykernel)",
   "language": "python",
   "name": "python3"
  },
  "language_info": {
   "codemirror_mode": {
    "name": "ipython",
    "version": 3
   },
   "file_extension": ".py",
   "mimetype": "text/x-python",
   "name": "python",
   "nbconvert_exporter": "python",
   "pygments_lexer": "ipython3",
   "version": "3.11.6"
  }
 },
 "nbformat": 4,
 "nbformat_minor": 5
}
